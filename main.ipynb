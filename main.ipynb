{
 "cells": [
  {
   "cell_type": "code",
   "execution_count": 8,
   "metadata": {},
   "outputs": [],
   "source": [
    "import findspark\n",
    "findspark.init()\n",
    "\n",
    "import pandas as pd\n",
    "import os\n",
    "import requests\n",
    "import json\n",
    "from pyspark.sql import SparkSession, Row\n",
    "from pyspark.sql.types import *\n",
    "from pyspark.sql import functions as F\n",
    "from pyspark.sql.functions import udf, lit, array, from_json, explode, get_json_object, repeat, col, expr, row_number\n",
    "from pyspark.sql.window import Window\n",
    "from datetime import datetime, timedelta\n",
    "import time\n",
    "from itertools import *"
   ]
  },
  {
   "cell_type": "code",
   "execution_count": null,
   "metadata": {},
   "outputs": [],
   "source": [
    "spark = SparkSession.builder \\\n",
    "      .master(\"local[1]\") \\\n",
    "      .appName(\"SparkByExamples.com\") \\\n",
    "      .getOrCreate()"
   ]
  },
  {
   "cell_type": "code",
   "execution_count": null,
   "metadata": {},
   "outputs": [],
   "source": [
    "# Buscar cidades do Vale do Paraíba\n",
    "response = requests.get(\"https://servicodados.ibge.gov.br/api/v1/localidades/mesorregioes/3513/municipios\")\n",
    "cities_data = json.loads(response.text)\n",
    "\n",
    "# Criar data frame com as cidades\n",
    "cities_df = spark.createDataFrame(cities_data)\n",
    "cities_df.createOrReplaceTempView(\"cities\")\n",
    "cities_df = cities_df.where(\"\"\"nome != 'São Luiz do Paraitinga'\"\"\")"
   ]
  },
  {
   "cell_type": "code",
   "execution_count": 31,
   "metadata": {},
   "outputs": [],
   "source": [
    "# Criar view com as cidades\n",
    "df_cidade= cities_df.select('nome','id')\n",
    "df_cidade = df_cidade.withColumn(\"regiao\", F.lit(\"Vale do Paraiba\"))"
   ]
  },
  {
   "cell_type": "code",
   "execution_count": 11,
   "metadata": {},
   "outputs": [],
   "source": [
    "# Buscar previsão do tempo para as cidades\n",
    "forecasts = []\n",
    "chave_aux_cidade = []\n",
    "chave_aux_forecast = []\n",
    "\n",
    "for index, city in enumerate(cities_data):\n",
    "    city_name = city[\"nome\"]\n",
    "    response = requests.get(f\"https://api.hgbrasil.com/weather?array_limit=5&fields=only_results,city_name,forecast,date,max,min,rain_probability,condition,sunrise,sunset,wind_speedy&key=f056459c&city_name={city_name},SP\")\n",
    "    forecast_data = json.loads(response.text)\n",
    "    chave_forecast = response.json()['forecast']\n",
    "    chave_cidade = response.json()['city_name']\n",
    "    chave_aux_forecast = chave_aux_forecast + [chave_forecast]\n",
    "    chave_aux_cidade = chave_aux_cidade + [chave_cidade]\n",
    "    forecasts.append(forecast_data)\n",
    "    chave_aux_cidade.append(chave_cidade)"
   ]
  },
  {
   "cell_type": "code",
   "execution_count": 14,
   "metadata": {},
   "outputs": [],
   "source": [
    "# Criar data frame com as previsões\n",
    "df_clima = spark.createDataFrame(forecasts)\n",
    "sun = df_clima.select('city_name','sunrise', 'sunset')\n",
    "\n",
    "schema = StructType([\n",
    "    StructField(\"nome\", StringType())\n",
    "])\n",
    "\n",
    "rdd = spark.sparkContext.parallelize([])\n",
    "\n",
    "cidades = []\n",
    "df = spark.createDataFrame(rdd, schema)\n",
    "\n",
    "for index, values in enumerate(chave_aux_forecast):\n",
    "    cidades = chave_aux_forecast[index]\n",
    "    nome_cidade = []\n",
    "    day_one = cidades[0]\n",
    "    day_two = cidades[1]\n",
    "    day_three = cidades[2]\n",
    "    day_four = cidades[3]\n",
    "    day_five = cidades[4]\n",
    "    df1_clima = spark.createDataFrame([day_one,day_two,day_three,day_four,day_five])\n",
    "    df = df1_clima.unionByName(df, allowMissingColumns = True).drop('nome')"
   ]
  },
  {
   "cell_type": "code",
   "execution_count": 16,
   "metadata": {},
   "outputs": [],
   "source": [
    "# Criar view com as previsões\n",
    "df1_clima = df.select('date','max','min','rain_probability','wind_speedy','condition')\n",
    "chave_cidade = df_clima.select('city_name')"
   ]
  },
  {
   "cell_type": "code",
   "execution_count": 18,
   "metadata": {},
   "outputs": [],
   "source": [
    "w= Window.partitionBy(['date']).orderBy(col('date').desc())\n",
    "teste = df.withColumn('row',row_number().over(w))"
   ]
  },
  {
   "cell_type": "code",
   "execution_count": 19,
   "metadata": {},
   "outputs": [],
   "source": [
    "teste_ = teste.withColumn(\n",
    "    \"cidade\",\n",
    "    F.when(F.col(\"row\") == \"1\", F.lit(\"Aparecida\"))\n",
    "    .when(F.col(\"row\") == \"2\", F.lit(\"Arapeí\"))\n",
    "    .when(F.col(\"row\") == \"3\", F.lit(\"Areias\"))\n",
    "    .when(F.col(\"row\") == \"4\", F.lit(\"Bananal\"))\n",
    "    .when(F.col(\"row\") == \"5\", F.lit(\"Caçapava\"))\n",
    "    .when(F.col(\"row\") == \"6\", F.lit(\"Cachoeira Paulista\"))\n",
    "    .when(F.col(\"row\") == \"7\", F.lit(\"Campos do Jordão\"))\n",
    "    .when(F.col(\"row\") == \"8\", F.lit(\"Canas\"))\n",
    "    .when(F.col(\"row\") == \"9\", F.lit(\"Caraguatatuba\"))\n",
    "    .when(F.col(\"row\") == \"10\", F.lit(\"Cruzeiro\"))\n",
    "    .when(F.col(\"row\") == \"11\", F.lit(\"Cunha\"))\n",
    "    .when(F.col(\"row\") == \"12\", F.lit(\"Guaratinguetá\"))\n",
    "    .when(F.col(\"row\") == \"13\", F.lit(\"Igaratá\"))\n",
    "    .when(F.col(\"row\") == \"14\", F.lit(\"Ilhabela\"))\n",
    "    .when(F.col(\"row\") == \"15\", F.lit(\"Jacareí\"))\n",
    "    .when(F.col(\"row\") == \"16\", F.lit(\"Jambeiro\"))\n",
    "    .when(F.col(\"row\") == \"17\", F.lit(\"Lagoinha\"))\n",
    "    .when(F.col(\"row\") == \"18\", F.lit(\"Lavrinhas\"))\n",
    "    .when(F.col(\"row\") == \"19\", F.lit(\"Lorena\"))\n",
    "    .when(F.col(\"row\") == \"20\", F.lit(\"Monteiro Lobato\"))\n",
    "    .when(F.col(\"row\") == \"21\", F.lit(\"Natividade da Serra\"))\n",
    "    .when(F.col(\"row\") == \"22\", F.lit(\"Paraibuna\"))\n",
    "    .when(F.col(\"row\") == \"23\", F.lit(\"Pindamonhangaba\"))\n",
    "    .when(F.col(\"row\") == \"24\", F.lit(\"Piquete\"))\n",
    "    .when(F.col(\"row\") == \"25\", F.lit(\"Potim\"))\n",
    "    .when(F.col(\"row\") == \"26\", F.lit(\"Queluz\"))\n",
    "    .when(F.col(\"row\") == \"27\", F.lit(\"Redenção da Serra\"))\n",
    "    .when(F.col(\"row\") == \"28\", F.lit(\"Roseira\"))\n",
    "    .when(F.col(\"row\") == \"29\", F.lit(\"Santa Branca\"))\n",
    "    .when(F.col(\"row\") == \"30\", F.lit(\"Santo Antônio do Pinhal\"))\n",
    "    .when(F.col(\"row\") == \"31\", F.lit(\"São Bento do Sapucaí\"))\n",
    "    .when(F.col(\"row\") == \"32\", F.lit(\"São José do Barreiro\"))\n",
    "    .when(F.col(\"row\") == \"33\", F.lit(\"São José dos Campos\"))\n",
    "    .when(F.col(\"row\") == \"34\", F.lit(\"São Sebastião\"))\n",
    "    .when(F.col(\"row\") == \"35\", F.lit(\"Silveiras\"))\n",
    "    .when(F.col(\"row\") == \"36\", F.lit(\"Taubaté\"))\n",
    "    .when(F.col(\"row\") == \"37\", F.lit(\"Tremembé\"))\n",
    "    .when(F.col(\"row\") == \"38\", F.lit(\"Ubatuba\")),\n",
    ")\n"
   ]
  },
  {
   "cell_type": "code",
   "execution_count": 20,
   "metadata": {},
   "outputs": [],
   "source": [
    "teste_ = teste_.drop('row')"
   ]
  },
  {
   "cell_type": "code",
   "execution_count": 21,
   "metadata": {},
   "outputs": [],
   "source": [
    "join_condition = [(sun.city_name == teste_.cidade)] "
   ]
  },
  {
   "cell_type": "code",
   "execution_count": 22,
   "metadata": {},
   "outputs": [],
   "source": [
    "df_final = teste_.join(sun, join_condition, how='left').drop('city_name').dropna()"
   ]
  },
  {
   "cell_type": "code",
   "execution_count": 23,
   "metadata": {},
   "outputs": [],
   "source": [
    "join_condition = [(df_cidade.nome == df_final.cidade)] "
   ]
  },
  {
   "cell_type": "code",
   "execution_count": 24,
   "metadata": {},
   "outputs": [],
   "source": [
    "df_final_ = df_cidade.join(df_final, join_condition, how='left').drop('nome')"
   ]
  },
  {
   "cell_type": "code",
   "execution_count": 25,
   "metadata": {},
   "outputs": [],
   "source": [
    "df_final_ = df_final_.withColumn(\"Pais\", F.lit(\"Brasil\"))\n",
    "df_final_ = df_final_.withColumn(\"VaiChover\", F.when(F.col('condition')=='rain', F.lit('Sim')).otherwise('Nao'))\n",
    "df_final_ = df_final_.withColumnRenamed(\"cidade\", \"Cidade\")\n",
    "df_final_ = df_final_.withColumnRenamed(\"id\", \"CodigoDaCidade\")\n",
    "df_final_ = df_final_.withColumnRenamed(\"date \", \"Data\")\n",
    "df_final_ = df_final_.withColumnRenamed(\"regiao\", \"Regiao\")\n",
    "df_final_ = df_final_.withColumnRenamed(\"max\", \"TemperaturaMaxima\")\n",
    "df_final_ = df_final_.withColumnRenamed(\"min\", \"TemperaturaMinima\")\n",
    "df_final_ = df_final_.withColumnRenamed(\"rain_probability\", \"ChanceDeChuva\")\n",
    "df_final_ = df_final_.withColumnRenamed(\"condition\", \"CondicaoDoTempo\")\n",
    "df_final_ = df_final_.withColumnRenamed(\"sunrise\", \"NascerDoSol\")\n",
    "df_final_ = df_final_.withColumnRenamed(\"sunset\", \"PorDoSol\")\n",
    "df_final_ = df_final_.withColumnRenamed(\"wind_speedy\", \"VelocidadeMaximaDoVento\")"
   ]
  },
  {
   "cell_type": "code",
   "execution_count": 26,
   "metadata": {},
   "outputs": [],
   "source": [
    "# Criar DF da Tabela 1\n",
    "df_tabela1 = df_final_.select('Cidade','CodigoDaCidade','date','Regiao','Pais','TemperaturaMaxima','TemperaturaMinima','VaiChover','ChanceDeChuva','CondicaoDoTempo','NascerDoSol','PorDoSol','VelocidadeMaximaDoVento')"
   ]
  },
  {
   "cell_type": "code",
   "execution_count": 27,
   "metadata": {},
   "outputs": [],
   "source": [
    "path = os.getcwd()"
   ]
  },
  {
   "cell_type": "code",
   "execution_count": 28,
   "metadata": {},
   "outputs": [],
   "source": [
    "df_tabela1 = df_tabela1.toPandas()"
   ]
  },
  {
   "cell_type": "code",
   "execution_count": 30,
   "metadata": {},
   "outputs": [],
   "source": [
    "df_tabela1.to_csv(f'{path}/Tabela.csv',sep=';',index= False)"
   ]
  },
  {
   "cell_type": "code",
   "execution_count": null,
   "metadata": {},
   "outputs": [],
   "source": [
    "# Impedimento para fazer a tabela 2\n",
    "\n",
    "\"\"\" \n",
    "O enunciado da tabela 2 não se fez entendível, em uma situação de trabalho no dia a dia eu consultaria o cliente para \n",
    "levantar e apurar os requisitos.\n",
    "\"\"\""
   ]
  }
 ],
 "metadata": {
  "kernelspec": {
   "display_name": "Python 3",
   "language": "python",
   "name": "python3"
  },
  "language_info": {
   "codemirror_mode": {
    "name": "ipython",
    "version": 3
   },
   "file_extension": ".py",
   "mimetype": "text/x-python",
   "name": "python",
   "nbconvert_exporter": "python",
   "pygments_lexer": "ipython3",
   "version": "3.10.6"
  },
  "orig_nbformat": 4,
  "vscode": {
   "interpreter": {
    "hash": "bbc3c3d932324566a9bf4b4a52ddf64063695fc3adbf25b3fda92572428493bb"
   }
  }
 },
 "nbformat": 4,
 "nbformat_minor": 2
}
